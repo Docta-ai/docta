{
 "cells": [
  {
   "cell_type": "markdown",
   "metadata": {},
   "source": [
    "# Tutorial: using Docta to curate your tabular data in seconds"
   ]
  },
  {
   "cell_type": "code",
   "execution_count": 1,
   "metadata": {},
   "outputs": [],
   "source": [
    "import sys\n",
    "import os\n",
    "os.chdir('..')\n",
    "o_path = os.getcwd()\n",
    "# print(o_path)\n",
    "sys.path.append(o_path) # set path so that modules from other foloders can be loaded"
   ]
  },
  {
   "cell_type": "markdown",
   "metadata": {},
   "source": [
    "### Section 1: Diagnose label errors in the dataset"
   ]
  },
  {
   "cell_type": "code",
   "execution_count": 7,
   "metadata": {},
   "outputs": [
    {
     "name": "stdout",
     "output_type": "stream",
     "text": [
      "Tabular_train\n",
      "Tabular-data load finished\n",
      "Detecting label errors with simifeat.\n",
      "Estimating consensus patterns...\n"
     ]
    },
    {
     "name": "stderr",
     "output_type": "stream",
     "text": [
      "100%|██████████| 50/50 [00:14<00:00,  3.34it/s]\n"
     ]
    },
    {
     "name": "stdout",
     "output_type": "stream",
     "text": [
      "Estimating consensus patterns... [Done]\n",
      "Use cpu to solve equations\n"
     ]
    },
    {
     "name": "stderr",
     "output_type": "stream",
     "text": [
      "100%|██████████| 1501/1501 [00:02<00:00, 705.52it/s]\n"
     ]
    },
    {
     "name": "stdout",
     "output_type": "stream",
     "text": [
      "Solve equations... [Done]\n",
      "Use SimiFeat-rank to detect label errors.\n"
     ]
    },
    {
     "name": "stderr",
     "output_type": "stream",
     "text": [
      "100%|██████████| 51/51 [00:02<00:00, 21.57it/s]\n"
     ]
    },
    {
     "name": "stdout",
     "output_type": "stream",
     "text": [
      "[SimiFeat] We find 2250 corrupted instances from 7400 instances\n",
      "Report saved to ./results/Tabular_train/label_error_Tabular_train_diagnose_report.pt\n"
     ]
    }
   ],
   "source": [
    "%run ./tools/diagnose_tabular.py"
   ]
  },
  {
   "cell_type": "markdown",
   "metadata": {},
   "source": [
    "### Take a look at the Docta cured/corrected labels"
   ]
  },
  {
   "cell_type": "code",
   "execution_count": 8,
   "metadata": {},
   "outputs": [
    {
     "name": "stdout",
     "output_type": "stream",
     "text": [
      "Load docta cured labels from ./results/Tabular_train/label_error_Tabular_train_diagnose_report.pt\n"
     ]
    }
   ],
   "source": [
    "print(f\"Load docta cured labels from {report_path}\")\n",
    "cured_labels = torch.load(report_path)"
   ]
  },
  {
   "cell_type": "markdown",
   "metadata": {},
   "source": [
    "### Check the detected samples with label error"
   ]
  },
  {
   "cell_type": "code",
   "execution_count": 9,
   "metadata": {},
   "outputs": [],
   "source": [
    "detected = cured_labels.detection['label_error']"
   ]
  },
  {
   "cell_type": "code",
   "execution_count": 10,
   "metadata": {},
   "outputs": [
    {
     "data": {
      "text/plain": [
       "[731, 0.9811320754716981]"
      ]
     },
     "execution_count": 10,
     "metadata": {},
     "output_type": "execute_result"
    }
   ],
   "source": [
    "detected[0]"
   ]
  },
  {
   "cell_type": "code",
   "execution_count": 11,
   "metadata": {},
   "outputs": [],
   "source": [
    "detected_idx = [detected[i][0] for i in range(len(detected))]"
   ]
  },
  {
   "cell_type": "code",
   "execution_count": 12,
   "metadata": {},
   "outputs": [],
   "source": [
    "# This function takes the docta report, error_report, and train data as input, outputs a filter X_train, y_train\n",
    "def filter_arrays(X_noisy, y_noisy, error_report, thres=0.8):\n",
    "    # Gather indices where second element in error report > thres\n",
    "    store_idx = [a for a, b in error_report if b > thres]\n",
    "    all_idx = range(len(y_noisy))\n",
    "    filtered_idx = [elem for elem in all_idx if elem not in store_idx]\n",
    "    # Filter X_noisy and y_noisy with indices in store_idx\n",
    "    X_noisy_filtered = X_noisy[filtered_idx]\n",
    "    y_noisy_filtered = y_noisy[filtered_idx]\n",
    "    \n",
    "    return X_noisy_filtered, y_noisy_filtered"
   ]
  },
  {
   "cell_type": "code",
   "execution_count": 13,
   "metadata": {},
   "outputs": [],
   "source": [
    "cured = cured_labels.curation['label_curation']"
   ]
  },
  {
   "cell_type": "code",
   "execution_count": 14,
   "metadata": {},
   "outputs": [
    {
     "data": {
      "text/plain": [
       "[731, 0, 0.9626201495194019]"
      ]
     },
     "execution_count": 14,
     "metadata": {},
     "output_type": "execute_result"
    }
   ],
   "source": [
    "cured[0]"
   ]
  },
  {
   "cell_type": "code",
   "execution_count": 15,
   "metadata": {},
   "outputs": [],
   "source": [
    "# This function takes the docta report, cured labels, and y_noisy as input, outputs a corrected y_train\n",
    "import numpy as np\n",
    "def cure_y_train(y_noisy, cured_report, thres = 0.6):\n",
    "    y_noisy_copy = np.copy(y_noisy)\n",
    "    for report in cured_report:\n",
    "        a, b, c = report\n",
    "        if c > thres:\n",
    "            y_noisy_copy[a] = b\n",
    "    return y_noisy_copy"
   ]
  },
  {
   "cell_type": "markdown",
   "metadata": {},
   "source": [
    "**Now we have two options:**\n",
    "\n",
    "* **Option 1**: you may want to use the docta cured labels\n",
    "\n",
    "    Simply by replacing y_train by y_cured above\n",
    "    \n",
    "* **Option 2**: you may also want to remove detected wrong labels"
   ]
  },
  {
   "cell_type": "markdown",
   "metadata": {},
   "source": [
    "### Section 2: Explore rare data patterns (Tabular) with Docta\n",
    "\n",
    "**Step 1** get docta report with pre-defined configs."
   ]
  },
  {
   "cell_type": "code",
   "execution_count": 2,
   "metadata": {},
   "outputs": [
    {
     "name": "stdout",
     "output_type": "stream",
     "text": [
      "==== Docta: Doctor for your data. Current version: 0.0 ====\n",
      "Customizing the extracted embeddings as a dataset...\n",
      "Getting consensus patterns...\n",
      "Long-tail score saved to ./results/Tabular/embedding.csv\n"
     ]
    }
   ],
   "source": [
    "%run ./tools/docta_tabular_rare_pattern.py --suffix 'tabular'"
   ]
  },
  {
   "cell_type": "markdown",
   "metadata": {},
   "source": [
    "**Step2** Take a look at the long-tail scores and samples"
   ]
  },
  {
   "cell_type": "code",
   "execution_count": 3,
   "metadata": {},
   "outputs": [
    {
     "data": {
      "text/html": [
       "<div>\n",
       "<style scoped>\n",
       "    .dataframe tbody tr th:only-of-type {\n",
       "        vertical-align: middle;\n",
       "    }\n",
       "\n",
       "    .dataframe tbody tr th {\n",
       "        vertical-align: top;\n",
       "    }\n",
       "\n",
       "    .dataframe thead th {\n",
       "        text-align: right;\n",
       "    }\n",
       "</style>\n",
       "<table border=\"1\" class=\"dataframe\">\n",
       "  <thead>\n",
       "    <tr style=\"text-align: right;\">\n",
       "      <th></th>\n",
       "      <th>idx</th>\n",
       "      <th>longtail_scores</th>\n",
       "    </tr>\n",
       "  </thead>\n",
       "  <tbody>\n",
       "    <tr>\n",
       "      <th>0</th>\n",
       "      <td>0</td>\n",
       "      <td>0.1653</td>\n",
       "    </tr>\n",
       "    <tr>\n",
       "      <th>1</th>\n",
       "      <td>1</td>\n",
       "      <td>0.1087</td>\n",
       "    </tr>\n",
       "    <tr>\n",
       "      <th>2</th>\n",
       "      <td>2</td>\n",
       "      <td>0.1344</td>\n",
       "    </tr>\n",
       "    <tr>\n",
       "      <th>3</th>\n",
       "      <td>3</td>\n",
       "      <td>0.1208</td>\n",
       "    </tr>\n",
       "    <tr>\n",
       "      <th>4</th>\n",
       "      <td>4</td>\n",
       "      <td>0.1405</td>\n",
       "    </tr>\n",
       "  </tbody>\n",
       "</table>\n",
       "</div>"
      ],
      "text/plain": [
       "   idx  longtail_scores\n",
       "0    0           0.1653\n",
       "1    1           0.1087\n",
       "2    2           0.1344\n",
       "3    3           0.1208\n",
       "4    4           0.1405"
      ]
     },
     "execution_count": 3,
     "metadata": {},
     "output_type": "execute_result"
    }
   ],
   "source": [
    "import pandas as pd\n",
    "lt_score_embedd = pd.read_csv('./results/Tabular/embedding.csv')\n",
    "lt_score_embedd.head()"
   ]
  },
  {
   "cell_type": "code",
   "execution_count": 4,
   "metadata": {},
   "outputs": [],
   "source": [
    "# A help function for results printing\n",
    "from docta.datasets import TabularDataset\n",
    "from docta.utils.config import Config\n",
    "cfg = Config.fromfile(f'./config/lt_tabular.py')\n",
    "dataset = TabularDataset(root_path=cfg.data_root)\n",
    "\n",
    "def print_lt(idxs, cfg):\n",
    "    df = pd.read_csv(cfg.data_root)\n",
    "    for idx in idxs:\n",
    "        print(f\"Index: {idx}, data sample: {df.iloc[idx]}\")"
   ]
  },
  {
   "cell_type": "markdown",
   "metadata": {},
   "source": [
    "### See some rare data"
   ]
  },
  {
   "cell_type": "code",
   "execution_count": null,
   "metadata": {},
   "outputs": [],
   "source": []
  },
  {
   "cell_type": "code",
   "execution_count": 5,
   "metadata": {},
   "outputs": [
    {
     "name": "stdout",
     "output_type": "stream",
     "text": [
      "Index: 2581, data sample: 1         2.734949\n",
      "2        -0.050353\n",
      "3        -0.021713\n",
      "4        -1.328850\n",
      "5         0.807054\n",
      "6        -0.820067\n",
      "7        -1.036281\n",
      "8         0.061610\n",
      "9        -0.022739\n",
      "10        0.673551\n",
      "11       -0.986104\n",
      "12        0.536167\n",
      "13        0.222778\n",
      "14       -1.159377\n",
      "15        0.692282\n",
      "16       -0.793972\n",
      "17       -0.919284\n",
      "18        0.396429\n",
      "19       -0.252113\n",
      "20        0.685198\n",
      "target    0.000000\n",
      "Name: 2581, dtype: float64\n"
     ]
    }
   ],
   "source": [
    "num_show = 1 \n",
    "lt_score = lt_score_embedd['longtail_scores'].tolist()\n",
    "topN = sorted(range(len(lt_score)), key = lambda sub: lt_score[sub])[-num_show:]\n",
    "print_lt(idxs=topN, cfg=cfg)\n",
    "# Print out the fatures (feature 1 to 20) and the label (target) if a long-tail sample."
   ]
  },
  {
   "cell_type": "markdown",
   "metadata": {},
   "source": [
    "### The distribution of the per-sample long-tail scores "
   ]
  },
  {
   "cell_type": "code",
   "execution_count": 6,
   "metadata": {},
   "outputs": [
    {
     "data": {
      "text/plain": [
       "<Axes: >"
      ]
     },
     "execution_count": 6,
     "metadata": {},
     "output_type": "execute_result"
    },
    {
     "data": {
      "image/png": "[encoded data removed]",
      "text/plain": [
       "<Figure size 600x400 with 1 Axes>"
      ]
     },
     "metadata": {},
     "output_type": "display_data"
    }
   ],
   "source": [
    "lt_score_embedd['longtail_scores'].hist(bins=20, figsize=[6,4])"
   ]
  },
  {
   "cell_type": "code",
   "execution_count": null,
   "metadata": {},
   "outputs": [],
   "source": []
  }
 ],
 "metadata": {
  "kernelspec": {
   "display_name": "Python 3.8.10 ('wjh': venv)",
   "language": "python",
   "name": "python3"
  },
  "language_info": {
   "codemirror_mode": {
    "name": "ipython",
    "version": 3
   },
   "file_extension": ".py",
   "mimetype": "text/x-python",
   "name": "python",
   "nbconvert_exporter": "python",
   "pygments_lexer": "ipython3",
   "version": "3.8.10"
  },
  "orig_nbformat": 4,
  "vscode": {
   "interpreter": {
    "hash": "bcc8426b8d045be0378c3bf0c17d3248f5415a14d14faf1bc7373f8d795fc619"
   }
  }
 },
 "nbformat": 4,
 "nbformat_minor": 2
}
